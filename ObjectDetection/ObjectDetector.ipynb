{
  "nbformat": 4,
  "nbformat_minor": 0,
  "metadata": {
    "colab": {
      "provenance": [],
      "gpuType": "T4",
      "authorship_tag": "ABX9TyMgRNgGbX89YQo9QsGIACiL",
      "include_colab_link": true
    },
    "kernelspec": {
      "name": "python3",
      "display_name": "Python 3"
    },
    "language_info": {
      "name": "python"
    },
    "accelerator": "GPU"
  },
  "cells": [
    {
      "cell_type": "markdown",
      "metadata": {
        "id": "view-in-github",
        "colab_type": "text"
      },
      "source": [
        "<a href=\"https://colab.research.google.com/github/dasnomp/Project-1-R7020E/blob/main/ObjectDetector.ipynb\" target=\"_parent\"><img src=\"https://colab.research.google.com/assets/colab-badge.svg\" alt=\"Open In Colab\"/></a>"
      ]
    },
    {
      "cell_type": "code",
      "execution_count": null,
      "metadata": {
        "id": "XFsq_Tyir6hN",
        "collapsed": true
      },
      "outputs": [],
      "source": [
        "!pip install ultralytics roboflow\n",
        "import ultralytics\n",
        "from roboflow import Roboflow\n",
        "import os\n",
        "ultralytics.checks()\n",
        "rf = Roboflow(api_key=\"Ctgl3HHmuJuXANwCo7i9\")\n",
        "project = rf.workspace(\"fire-extinguisher\").project(\"fireextinguisher-z5atr\")\n",
        "version = project.version(2)\n",
        "dataset = version.download(\"yolov11\")"
      ]
    },
    {
      "cell_type": "code",
      "source": [
        "from ultralytics import YOLO\n",
        "\n",
        "model = YOLO(\"yolo11n.pt\")  # pretrained weights\n",
        "\n",
        "model.train(\n",
        "    data=\"FireExtinguisher-2/data.yaml\",\n",
        "    epochs=20,\n",
        "    imgsz=640,\n",
        "    resume=False\n",
        ")"
      ],
      "metadata": {
        "collapsed": true,
        "id": "1sYuPlH4vYlt"
      },
      "execution_count": null,
      "outputs": []
    },
    {
      "cell_type": "code",
      "source": [
        "model = YOLO(\"runs/detect/train/weights/best.pt\")\n",
        "metrics = model.val()  # evaluates on the validation set in your data.yaml"
      ],
      "metadata": {
        "collapsed": true,
        "id": "hhtZJsdG87a-"
      },
      "execution_count": null,
      "outputs": []
    },
    {
      "cell_type": "code",
      "metadata": {
        "id": "31b99719"
      },
      "source": [
        "from IPython.display import display, Image\n",
        "\n",
        "display(Image(filename='/content/runs/detect/train/results.png'))"
      ],
      "execution_count": null,
      "outputs": []
    },
    {
      "cell_type": "code",
      "source": [
        "from google.colab import drive\n",
        "import os, shutil\n",
        "\n",
        "# 1️⃣ Montera Drive\n",
        "drive.mount('/content/drive')\n",
        "\n",
        "# 2️⃣ Basfolder i Drive\n",
        "base_dir = \"/content/drive/MyDrive/Colab Notebooks/yolo_sessions\"\n",
        "os.makedirs(base_dir, exist_ok=True)\n",
        "\n",
        "# 3️⃣ Hitta nästa sessionsnummer\n",
        "existing = [d for d in os.listdir(base_dir) if d.startswith(\"Session_\")]\n",
        "nums = [int(d.split(\"_\")[1]) for d in existing if d.split(\"_\")[1].isdigit()]\n",
        "next_num = max(nums, default=0) + 1\n",
        "session_dir = os.path.join(base_dir, f\"Session_{next_num}\")\n",
        "os.makedirs(session_dir, exist_ok=True)\n",
        "\n",
        "# 4️⃣ Källfiler från din senaste YOLO-run\n",
        "src_dir = \"runs/detect/train\"  # byt om din run heter train2/train3\n",
        "targets = [\n",
        "    \"weights/best.pt\",\n",
        "    \"weights/last.pt\",\n",
        "    \"results.png\",\n",
        "    \"confusion_matrix.png\"\n",
        "]\n",
        "\n",
        "# 5️⃣ Kopiera\n",
        "for rel_path in targets:\n",
        "    full_src = os.path.join(src_dir, rel_path)\n",
        "    if os.path.exists(full_src):\n",
        "        shutil.copy(full_src, session_dir)\n",
        "        print(f\"✅ Sparade {rel_path}\")\n",
        "    else:\n",
        "        print(f\"⚠️ Hittade inte {rel_path} — hoppar över.\")\n",
        "\n",
        "print(f\"\\n📂 Sparat i: {session_dir}\")"
      ],
      "metadata": {
        "id": "CtTGlA4rRZkv"
      },
      "execution_count": null,
      "outputs": []
    }
  ]
}
