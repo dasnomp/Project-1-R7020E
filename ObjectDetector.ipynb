{
  "nbformat": 4,
  "nbformat_minor": 0,
  "metadata": {
    "colab": {
      "provenance": [],
      "gpuType": "T4",
      "collapsed_sections": [
        "aXZ0TwJzSy4E",
        "Ddn4aUKjyNLQ",
        "twVLKwIgya1G",
        "0UMrYdp7ypJN",
        "_iL2E04myx8t",
        "EeloG_1K2dV6"
      ],
      "authorship_tag": "ABX9TyMP/hZK6lE4+VFBPa6WNt97",
      "include_colab_link": true
    },
    "kernelspec": {
      "name": "python3",
      "display_name": "Python 3"
    },
    "language_info": {
      "name": "python"
    },
    "accelerator": "GPU"
  },
  "cells": [
    {
      "cell_type": "markdown",
      "metadata": {
        "id": "view-in-github",
        "colab_type": "text"
      },
      "source": [
        "<a href=\"https://colab.research.google.com/github/dasnomp/Project-1-R7020E/blob/main/ObjectDetector.ipynb\" target=\"_parent\"><img src=\"https://colab.research.google.com/assets/colab-badge.svg\" alt=\"Open In Colab\"/></a>"
      ]
    },
    {
      "cell_type": "markdown",
      "source": [
        "#Training code for YOLO v11 object detection\n",
        "Worth noting is that all the paths need to be changed if you want to run the code, I didn't put any time on changing to relative paths"
      ],
      "metadata": {
        "id": "9Qns_xfLS6f3"
      }
    },
    {
      "cell_type": "markdown",
      "source": [
        "#Check if GPU is available\n",
        "\n"
      ],
      "metadata": {
        "id": "aXZ0TwJzSy4E"
      }
    },
    {
      "cell_type": "code",
      "source": [
        "!nvidia-smi"
      ],
      "metadata": {
        "id": "lnJqROeyzHHd"
      },
      "execution_count": null,
      "outputs": []
    },
    {
      "cell_type": "markdown",
      "source": [
        "# Install Dependencies & Import Dataset from Roboflow"
      ],
      "metadata": {
        "id": "Ddn4aUKjyNLQ"
      }
    },
    {
      "cell_type": "code",
      "execution_count": null,
      "metadata": {
        "id": "XFsq_Tyir6hN",
        "collapsed": true
      },
      "outputs": [],
      "source": [
        "!pip install ultralytics roboflow\n",
        "import ultralytics\n",
        "from roboflow import Roboflow\n",
        "import os\n",
        "ultralytics.checks()\n",
        "rf = Roboflow(api_key=\"Ctgl3HHmuJuXANwCo7i9\")\n",
        "project = rf.workspace(\"fire-extinguisher\").project(\"fireextinguisher-z5atr\")\n",
        "version = project.version(2)\n",
        "dataset = version.download(\"yolov11\")"
      ]
    },
    {
      "cell_type": "markdown",
      "source": [
        "# Import a pretrained YOLO 11 model and train on custom dataset"
      ],
      "metadata": {
        "id": "twVLKwIgya1G"
      }
    },
    {
      "cell_type": "code",
      "source": [
        "from ultralytics import YOLO\n",
        "\n",
        "model = YOLO(\"yolo11n.pt\")  # pretrained model\n",
        "\n",
        "model.train(\n",
        "    data=\"FireExtinguisher-2/data.yaml\",\n",
        "    epochs=500, # set epochs to large number to able to use resume=True later\n",
        "    imgsz=640,\n",
        "    resume = False\n",
        ")"
      ],
      "metadata": {
        "collapsed": true,
        "id": "1sYuPlH4vYlt"
      },
      "execution_count": null,
      "outputs": []
    },
    {
      "cell_type": "markdown",
      "source": [
        "# Save training results in Google Drive\n",
        "\n"
      ],
      "metadata": {
        "id": "0UMrYdp7ypJN"
      }
    },
    {
      "cell_type": "code",
      "source": [
        "from google.colab import drive\n",
        "import os, shutil\n",
        "\n",
        "# 1. Mount drive\n",
        "drive.mount('/content/drive')\n",
        "\n",
        "# 2. Base folder in drive\n",
        "base_dir = \"/content/drive/MyDrive/Colab Notebooks/yolo_sessions\"\n",
        "os.makedirs(base_dir, exist_ok=True)\n",
        "\n",
        "# 3. Find next session number to save in\n",
        "# This code snippet creates folder according to \"Session_n\" where n = 1,2,3,...\n",
        "existing = [d for d in os.listdir(base_dir) if d.startswith(\"Session_\")]\n",
        "nums = [int(d.split(\"_\")[1]) for d in existing if d.split(\"_\")[1].isdigit()]\n",
        "next_num = max(nums, default=0) + 1\n",
        "session_dir = os.path.join(base_dir, f\"Session_{next_num}\")\n",
        "os.makedirs(session_dir, exist_ok=True)\n",
        "\n",
        "# 4. Save target data\n",
        "src_dir = \"runs/detect/train\"\n",
        "targets = [\n",
        "    \"weights/best.pt\",\n",
        "    \"weights/last.pt\",\n",
        "    \"results.csv\", # Save csv files to get data from start to end\n",
        "    \"args.yaml\"\n",
        "]\n",
        "\n",
        "# 5. Copy\n",
        "for rel_path in targets:\n",
        "    full_src = os.path.join(src_dir, rel_path)\n",
        "    if os.path.exists(full_src):\n",
        "        shutil.copy(full_src, session_dir)\n",
        "        print(f\"✅ Saved {rel_path}\")\n",
        "    else:\n",
        "        print(f\"⚠️ Couldn't find {rel_path} — Skipping.\")\n",
        "\n",
        "print(f\"\\n📂 Saved in: {session_dir}\")"
      ],
      "metadata": {
        "id": "CtTGlA4rRZkv"
      },
      "execution_count": null,
      "outputs": []
    },
    {
      "cell_type": "markdown",
      "source": [
        "# Resume training with previous weights imported from Google Drive"
      ],
      "metadata": {
        "id": "_iL2E04myx8t"
      }
    },
    {
      "cell_type": "code",
      "source": [
        "from google.colab import drive\n",
        "from ultralytics import YOLO\n",
        "drive.mount('/content/drive/')\n",
        "model = YOLO('/content/drive/MyDrive/Colab Notebooks/yolo_sessions/Session_3/last.pt')"
      ],
      "metadata": {
        "id": "BrZDiSOZ0VqK"
      },
      "execution_count": null,
      "outputs": []
    },
    {
      "cell_type": "code",
      "source": [
        "model.train(\n",
        "    data=\"FireExtinguisher-2/data.yaml\",\n",
        "    epochs=500,\n",
        "    imgsz=640,\n",
        "    resume=True\n",
        ")"
      ],
      "metadata": {
        "id": "fqCHLcSx4aj2"
      },
      "execution_count": null,
      "outputs": []
    },
    {
      "cell_type": "markdown",
      "source": [
        "#Additional 30 epochs of training with Augmented Data"
      ],
      "metadata": {
        "id": "EeloG_1K2dV6"
      }
    },
    {
      "cell_type": "code",
      "source": [
        "from ultralytics import YOLO\n",
        "\n",
        "model = YOLO('runs/detect/train_aug_test/weights/last.pt')\n",
        "\n",
        "model.train(\n",
        "    data=\"FireExtinguisher-2/data.yaml\",\n",
        "    project=\"runs/detect\",\n",
        "    name=\"train_aug_test\",\n",
        "    epochs=30,\n",
        "    imgsz=640,\n",
        "    lr0=0.005,               # small learning rate to finetune\n",
        "    # augment the data:\n",
        "    perspective=0.003, shear=0.2, scale=0.6, hsv_v=0.6,\n",
        "    translate=0.15, copy_paste=0.2, erasing=0.4,\n",
        ")"
      ],
      "metadata": {
        "id": "apmFEmN_cQJ3"
      },
      "execution_count": null,
      "outputs": []
    }
  ]
}